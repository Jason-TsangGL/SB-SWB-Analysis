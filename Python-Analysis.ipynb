{
 "cells": [
  {
   "cell_type": "markdown",
   "metadata": {},
   "source": [
    "## Data Analysis Protocol\n",
    "\n",
    "**Remove Header Information as it interferes with reading of CSV files**"
   ]
  },
  {
   "cell_type": "markdown",
   "metadata": {},
   "source": [
    "**Import Libraries:** Import the necessary libraries.\n",
    "\n",
    "**Get the List of Files:** You can use the os module to get a list of files in a directory.\n",
    "\n"
   ]
  },
  {
   "cell_type": "code",
   "execution_count": 61,
   "metadata": {},
   "outputs": [
    {
     "name": "stdout",
     "output_type": "stream",
     "text": [
      "Found 148 csv files.\n"
     ]
    }
   ],
   "source": [
    "#import modules\n",
    "import os\n",
    "import glob\n",
    "import pandas as pd\n",
    "import numpy as np\n",
    "\n",
    "path = \"directory/\"\n",
    "file_list = os.listdir(path)\n",
    "file_type = (file_list[0])[-3:]\n",
    "print(f'Found {len(file_list)} {file_type} files.')"
   ]
  },
  {
   "cell_type": "markdown",
   "metadata": {},
   "source": [
    "**Data Frame Header for SWBSB Data Analysis**\n"
   ]
  },
  {
   "cell_type": "code",
   "execution_count": 97,
   "metadata": {},
   "outputs": [
    {
     "name": "stdout",
     "output_type": "stream",
     "text": [
      "Identifier\n",
      "Average Step Count\n",
      "Average Step Time\n",
      "Average Stand Count\n",
      "Average Sitting Time\n",
      "Average Sedentary Time\n",
      "Adjusted Average Sedentary Time\n",
      "NumSitToStands\n",
      "Average Sleep\n",
      "Weekday Sleep\n",
      "Weekend Sleep\n"
     ]
    }
   ],
   "source": [
    "df_headers = [\"Identifier\",\"Average Step Count\",\"Average Step Time\",\"Average Stand Count\",\"Average Sitting Time\",\"Average Sedentary Time\",\"Adjusted Average Sedentary Time\",\"NumSitToStands\",\"Average Sleep\",\"Weekday Sleep\",\"Weekend Sleep\"]\n",
    "\n",
    "for entry in df_headers:\n",
    "    print(entry)"
   ]
  },
  {
   "cell_type": "markdown",
   "metadata": {},
   "source": [
    "**Read and Append CSV Files:** Use a loop to read each CSV file and append it to a DataFrame.\\\n",
    "Sort CSV files from directory file based on participant timepoint entries"
   ]
  },
  {
   "cell_type": "code",
   "execution_count": 64,
   "metadata": {},
   "outputs": [],
   "source": [
    "path = \"directory/\"\n",
    "file_list = os.listdir(path)\n",
    "for file in file_list:\n",
    "    df_temp = pd.read_csv(path+file,sep=';',skiprows=15, na_values=['N/A'],header=0)\n",
    "    #Reads the 5th to 7th characters in the file name to identify if it is BL PI or FU\n",
    "    if file[4:6] == \"BL\":\n",
    "        #Sort to BL folder if BL\n",
    "        df_temp.to_csv(os.path.join(\"timepoints/BL/\", os.path.basename(file)), na_rep='N/A', index=False)\n",
    "    elif (str(file[4:6]) == \"PI\"):\n",
    "        #Sort to PI folder if PI\n",
    "        df_temp.to_csv(os.path.join(\"timepoints/PI/\", os.path.basename(file)), na_rep='N/A', index=False)\n",
    "    elif (str(file[4:6]) == \"FU\"):\n",
    "        #Sort to FU folder if FU\n",
    "        df_temp.to_csv(os.path.join(\"timepoints/FU/\", os.path.basename(file)), na_rep='N/A', index=False)\n",
    "    else:\n",
    "        print(f\"error on {file}\")"
   ]
  },
  {
   "cell_type": "markdown",
   "metadata": {},
   "source": [
    "Sort **Sleep Survey CSV files** based on participant timepoint entries\\\n",
    "1. *Calculated sleep duration* = Time delta between Bedtime to Wake up\n",
    "2. *Weighted Average* = WD*(5/7)+WE(2/7)"
   ]
  },
  {
   "cell_type": "code",
   "execution_count": 72,
   "metadata": {},
   "outputs": [],
   "source": [
    "def surveydatasorter(array):\n",
    "    seen = 0 # create an empty set\n",
    "    bl= []\n",
    "    blid = []\n",
    "    pi= [] \n",
    "    piid = []\n",
    "    fu= []\n",
    "    fuid = []\n",
    "    try:\n",
    "        for entry in array:\n",
    "            seen += 1\n",
    "            if entry[7] in blid :\n",
    "                if entry[7] in piid:\n",
    "                    if entry[7] in fuid:\n",
    "                        print(f\"Extra Participant ID#: {entry} index #:{seen} \")\n",
    "                    else:\n",
    "                        fu += [entry]\n",
    "                        fuid += [(entry[7])] # add entry to the set\n",
    "\n",
    "                else:\n",
    "                    pi += [entry]\n",
    "                    piid += [(entry[7])] # add entry to the set\n",
    "\n",
    "            else:\n",
    "                bl += [entry] # add entry to the set\n",
    "                blid += [(entry[7])] # add entry to the set\n",
    "\n",
    "                # do something with entry\n",
    "        print(\"----------------------------\")\n",
    "        print(f'Total: {len(bl+pi+fu)} Baseline: {len(bl)} PostIntervention: {len(pi)} FollowUp: {len(fu)}')\n",
    "        print(\"----------------------------\")\n",
    "    except:\n",
    "        print(\"error\")\n",
    "    return bl,pi,fu"
   ]
  },
  {
   "cell_type": "code",
   "execution_count": 81,
   "metadata": {},
   "outputs": [],
   "source": [
    "def sleepdataprocessor(sleepdf1):\n",
    "    sleepentry=[]\n",
    "    for entry in sleepdf1:\n",
    "        sleepdf = entry\n",
    "        weekday_wake = sleepdf[11]\n",
    "        weekday_sleep =sleepdf[12]\n",
    "        weekend_wake = sleepdf[13]\n",
    "        weekend_sleep = sleepdf[14]\n",
    "        weekday_sleep_duration =  pd.Timedelta((pd.to_datetime(sleepdf[12])-(pd.to_datetime(sleepdf[11])))).seconds/60\n",
    "        weekend_sleep_duration = pd.Timedelta((pd.to_datetime(sleepdf[14])-(pd.to_datetime(sleepdf[13])))).seconds/60\n",
    "        avg_sleep_duration = ((pd.Timedelta((pd.to_datetime(sleepdf[12])-(pd.to_datetime(sleepdf[11])))).seconds/60)*(5/7)+((pd.Timedelta((pd.to_datetime(sleepdf[14])-(pd.to_datetime(sleepdf[13])))).seconds/60)*(2/7)))\n",
    "        sleepentry += [[sleepdf[7],avg_sleep_duration,weekday_sleep_duration,weekend_sleep_duration]]\n",
    "    return sleepentry"
   ]
  },
  {
   "cell_type": "code",
   "execution_count": null,
   "metadata": {},
   "outputs": [],
   "source": []
  },
  {
   "cell_type": "code",
   "execution_count": 82,
   "metadata": {},
   "outputs": [
    {
     "name": "stdout",
     "output_type": "stream",
     "text": [
      "----------------------------\n",
      "Total: 148 Baseline: 56 PostIntervention: 47 FollowUp: 45\n",
      "----------------------------\n"
     ]
    }
   ],
   "source": [
    "data = pd.read_excel(\"surveydatav2.xlsx\",skiprows=1,na_values=['N/A'],header=0)\n",
    "bl,pi,fu=surveydatasorter(data.to_numpy())\n",
    "\n",
    "blsleepdf=sleepdataprocessor(bl)\n",
    "pisleepdf=sleepdataprocessor(pi)\n",
    "fusleepdf=sleepdataprocessor(fu)"
   ]
  },
  {
   "cell_type": "markdown",
   "metadata": {},
   "source": [
    "**Sorted and Calculated Respective Time Point Entry** for the following:\\\n",
    "1. \"Average Step Count\"\n",
    "2. \"Average Step Time\"\n",
    "3. \"Average Stand Count\"\n",
    "4. \"Average Sitting Time\",\"Average Sedentary Time\"\n",
    "5. \"Adjusted Average Sedentary Time\"\n",
    "6. \"NumSitToStands\"\\\n",
    "\n",
    "**Appended from Sleep Survey**:\n",
    "\n",
    "7. \"Average Sleep Duration\"\n",
    "8. \"Average Weekday Sleep\"\n",
    "9. \"Average Weekend Sleep\""
   ]
  },
  {
   "cell_type": "code",
   "execution_count": 92,
   "metadata": {},
   "outputs": [],
   "source": [
    "def RawActivPalDataProcessor(path,sleepdata): \n",
    "    index=0\n",
    "    file_list = os.listdir(path)\n",
    "    summarydata = []\n",
    "    for file in file_list:\n",
    "        try:\n",
    "            df_temp = pd.read_csv(path+file,na_values=['N/A'],header=0)\n",
    "            array = df_temp.to_numpy()\n",
    "            avgstepcount = np.empty(array.shape[0])\n",
    "            avgsteptime = np.empty(array.shape[0])\n",
    "            avgstandtime = np.empty(array.shape[0])\n",
    "            avgsittime = np.empty(array.shape[0])\n",
    "            avgsedtime = np.empty(array.shape[0])\n",
    "            NSTS = np.empty(array.shape[0])\n",
    "            for i in range (array.shape[0]):\n",
    "                sleepsurvey = sleepdata[i]\n",
    "                data = array[i]\n",
    "                participantid = str(data[1])[:3]\n",
    "                avgstepcount[i] = (data[10])\n",
    "                avgsteptime[i] = (data[13])\n",
    "                avgstandtime[i] = (data[15])\n",
    "                avgsittime[i] = (data[17])\n",
    "                avgsedtime[i] = (data[16])\n",
    "                NSTS[i] = (data[23])\n",
    "\n",
    "            summarydata += [[participantid,avgstepcount.mean(),avgsteptime.mean(),avgstandtime.mean(),avgsittime.mean(),avgsedtime.mean(),((avgsedtime.mean())-sleepsurvey[1]),NSTS.mean(),sleepsurvey[1],sleepsurvey[2],sleepsurvey[3]]]\n",
    "            index += 1\n",
    "        except IndexError:\n",
    "            # summarydata += [[participantid,avgstepcount.mean(),avgsteptime.mean(),avgstandtime.mean(),avgsittime.mean(),avgsedtime.mean(),NSTS.mean()]]\n",
    "            print(f\"NaN IndexNo.{index} Error{[[participantid,avgstepcount.mean(),avgsteptime.mean(),avgstandtime.mean(),avgsittime.mean(),avgsedtime.mean(),NSTS.mean()]]}\")\n",
    "            print('---------')\n",
    "            print(\"\") \n",
    "    return summarydata , pd.DataFrame(summarydata,columns=df_headers)"
   ]
  },
  {
   "cell_type": "code",
   "execution_count": 93,
   "metadata": {},
   "outputs": [],
   "source": [
    "BLDS , BLPD = RawActivPalDataProcessor(\"timepoints/BL/\",blsleepdf)\n",
    "BLPD.to_csv(\"Baseline.csv\")"
   ]
  },
  {
   "cell_type": "code",
   "execution_count": 94,
   "metadata": {},
   "outputs": [],
   "source": [
    "PIDS,PIDP= RawActivPalDataProcessor(\"timepoints/PI/\",pisleepdf)\n",
    "PIDP.to_csv(\"PostInvervention.csv\")"
   ]
  },
  {
   "cell_type": "code",
   "execution_count": 95,
   "metadata": {},
   "outputs": [],
   "source": [
    "FUDS,FUDP = RawActivPalDataProcessor(\"timepoints/FU/\",fusleepdf)\n",
    "FUDP.to_csv(\"FollowUp.csv\")"
   ]
  },
  {
   "cell_type": "code",
   "execution_count": 1,
   "metadata": {},
   "outputs": [
    {
     "name": "stdout",
     "output_type": "stream",
     "text": [
      "Found 148 csv files.\n"
     ]
    }
   ],
   "source": [
    "#import modules\n",
    "import os\n",
    "import glob\n",
    "import pandas as pd\n",
    "import numpy as np\n",
    "\n",
    "path = \"directory/\"\n",
    "file_list = os.listdir(path)\n",
    "file_type = (file_list[0])[-3:]\n",
    "print(f'Found {len(file_list)} {file_type} files.')"
   ]
  },
  {
   "cell_type": "code",
   "execution_count": 28,
   "metadata": {},
   "outputs": [],
   "source": [
    "values = pd.read_excel(\"values.xlsx\",na_values=['N/A'],header=0)\n",
    "variables = pd.read_excel(\"Variables.xlsx\",na_values=['N/A'],header=0)\n",
    "valuearray = values.to_numpy()\n",
    "variablesarray = variables.to_numpy()"
   ]
  },
  {
   "cell_type": "code",
   "execution_count": 41,
   "metadata": {},
   "outputs": [
    {
     "data": {
      "text/plain": [
       "(1166, 5)"
      ]
     },
     "execution_count": 41,
     "metadata": {},
     "output_type": "execute_result"
    }
   ],
   "source": [
    "valuearray.shape"
   ]
  },
  {
   "cell_type": "code",
   "execution_count": null,
   "metadata": {},
   "outputs": [],
   "source": [
    "for i in range valuearray.shape[0]:"
   ]
  },
  {
   "cell_type": "code",
   "execution_count": 31,
   "metadata": {},
   "outputs": [
    {
     "data": {
      "text/plain": [
       "'IN09'"
      ]
     },
     "execution_count": 31,
     "metadata": {},
     "output_type": "execute_result"
    }
   ],
   "source": [
    "(valuearray[2])[1]"
   ]
  },
  {
   "cell_type": "code",
   "execution_count": 40,
   "metadata": {},
   "outputs": [
    {
     "data": {
      "text/plain": [
       "'B003'"
      ]
     },
     "execution_count": 40,
     "metadata": {},
     "output_type": "execute_result"
    }
   ],
   "source": [
    "(variablesarray[10])[0]"
   ]
  },
  {
   "cell_type": "code",
   "execution_count": null,
   "metadata": {},
   "outputs": [],
   "source": []
  }
 ],
 "metadata": {
  "kernelspec": {
   "display_name": "Python 3",
   "language": "python",
   "name": "python3"
  },
  "language_info": {
   "codemirror_mode": {
    "name": "ipython",
    "version": 3
   },
   "file_extension": ".py",
   "mimetype": "text/x-python",
   "name": "python",
   "nbconvert_exporter": "python",
   "pygments_lexer": "ipython3",
   "version": "3.10.9"
  },
  "orig_nbformat": 4
 },
 "nbformat": 4,
 "nbformat_minor": 2
}
